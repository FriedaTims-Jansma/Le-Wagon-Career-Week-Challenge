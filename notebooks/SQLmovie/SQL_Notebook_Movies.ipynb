{
 "cells": [
  {
   "cell_type": "markdown",
   "id": "5abd8d08",
   "metadata": {},
   "source": [
    "# SQL movies & directors"
   ]
  },
  {
   "cell_type": "markdown",
   "id": "db93cf0b",
   "metadata": {},
   "source": [
    "## Importing libraries"
   ]
  },
  {
   "cell_type": "code",
   "execution_count": 3,
   "id": "353c29fa",
   "metadata": {},
   "outputs": [
    {
     "name": "stderr",
     "output_type": "stream",
     "text": [
      "/Users/samtims/.pyenv/versions/3.8.12/envs/frieda/lib/python3.8/site-packages/pandas/compat/__init__.py:124: UserWarning: Could not import the lzma module. Your installed Python is incomplete. Attempting to use lzma compression will result in a RuntimeError.\n",
      "  warnings.warn(msg)\n"
     ]
    }
   ],
   "source": [
    "import pandas as pd"
   ]
  },
  {
   "cell_type": "markdown",
   "id": "45996b2d",
   "metadata": {},
   "source": [
    "## Connecting database"
   ]
  },
  {
   "cell_type": "code",
   "execution_count": 27,
   "id": "71aef791",
   "metadata": {},
   "outputs": [],
   "source": [
    "import sqlite3\n",
    "conn = sqlite3.connect('movies.sqlite')\n",
    "c = conn.cursor()"
   ]
  },
  {
   "cell_type": "markdown",
   "id": "f9ce4a1d",
   "metadata": {},
   "source": [
    "## Checking data "
   ]
  },
  {
   "cell_type": "code",
   "execution_count": 34,
   "id": "56939b7f",
   "metadata": {},
   "outputs": [],
   "source": [
    "c.execute(\"SELECT * FROM movies\") \n",
    "movies = c.fetchall()"
   ]
  },
  {
   "cell_type": "code",
   "execution_count": 35,
   "id": "46c23990",
   "metadata": {},
   "outputs": [
    {
     "data": {
      "text/plain": [
       "['title',\n",
       " 'rating',\n",
       " 'vote_count',\n",
       " 'start_year',\n",
       " 'minutes',\n",
       " 'genres',\n",
       " 'imdb_id',\n",
       " 'id',\n",
       " 'director_id']"
      ]
     },
     "execution_count": 35,
     "metadata": {},
     "output_type": "execute_result"
    }
   ],
   "source": [
    "col_names_movies = list(map(lambda x: x[0], c.description))\n",
    "col_names_movies"
   ]
  },
  {
   "cell_type": "markdown",
   "id": "787ead63",
   "metadata": {},
   "source": [
    "### movies dataframe"
   ]
  },
  {
   "cell_type": "code",
   "execution_count": 36,
   "id": "e5c3ef6c",
   "metadata": {},
   "outputs": [
    {
     "data": {
      "text/html": [
       "<div>\n",
       "<style scoped>\n",
       "    .dataframe tbody tr th:only-of-type {\n",
       "        vertical-align: middle;\n",
       "    }\n",
       "\n",
       "    .dataframe tbody tr th {\n",
       "        vertical-align: top;\n",
       "    }\n",
       "\n",
       "    .dataframe thead tr th {\n",
       "        text-align: left;\n",
       "    }\n",
       "</style>\n",
       "<table border=\"1\" class=\"dataframe\">\n",
       "  <thead>\n",
       "    <tr>\n",
       "      <th></th>\n",
       "      <th>title</th>\n",
       "      <th>rating</th>\n",
       "      <th>vote_count</th>\n",
       "      <th>start_year</th>\n",
       "      <th>minutes</th>\n",
       "      <th>genres</th>\n",
       "      <th>imdb_id</th>\n",
       "      <th>id</th>\n",
       "      <th>director_id</th>\n",
       "    </tr>\n",
       "  </thead>\n",
       "  <tbody>\n",
       "    <tr>\n",
       "      <th>0</th>\n",
       "      <td>A Trip to the Moon</td>\n",
       "      <td>8.2</td>\n",
       "      <td>39710</td>\n",
       "      <td>1902</td>\n",
       "      <td>13.0</td>\n",
       "      <td>Action,Adventure,Comedy</td>\n",
       "      <td>tt0000417</td>\n",
       "      <td>1</td>\n",
       "      <td>1</td>\n",
       "    </tr>\n",
       "    <tr>\n",
       "      <th>1</th>\n",
       "      <td>The Great Train Robbery</td>\n",
       "      <td>7.3</td>\n",
       "      <td>15526</td>\n",
       "      <td>1903</td>\n",
       "      <td>11.0</td>\n",
       "      <td>Action,Crime,Short</td>\n",
       "      <td>tt0000439</td>\n",
       "      <td>2</td>\n",
       "      <td>2</td>\n",
       "    </tr>\n",
       "    <tr>\n",
       "      <th>2</th>\n",
       "      <td>The Birth of a Nation</td>\n",
       "      <td>6.4</td>\n",
       "      <td>20774</td>\n",
       "      <td>1915</td>\n",
       "      <td>195.0</td>\n",
       "      <td>Drama,History,War</td>\n",
       "      <td>tt0004972</td>\n",
       "      <td>3</td>\n",
       "      <td>4</td>\n",
       "    </tr>\n",
       "    <tr>\n",
       "      <th>3</th>\n",
       "      <td>Intolerance: Love's Struggle Throughout the Ages</td>\n",
       "      <td>7.8</td>\n",
       "      <td>13051</td>\n",
       "      <td>1916</td>\n",
       "      <td>163.0</td>\n",
       "      <td>Drama,History</td>\n",
       "      <td>tt0006864</td>\n",
       "      <td>4</td>\n",
       "      <td>4</td>\n",
       "    </tr>\n",
       "    <tr>\n",
       "      <th>4</th>\n",
       "      <td>The Cabinet of Dr. Caligari</td>\n",
       "      <td>8.1</td>\n",
       "      <td>51029</td>\n",
       "      <td>1920</td>\n",
       "      <td>76.0</td>\n",
       "      <td>Fantasy,Horror,Mystery</td>\n",
       "      <td>tt0010323</td>\n",
       "      <td>5</td>\n",
       "      <td>5</td>\n",
       "    </tr>\n",
       "  </tbody>\n",
       "</table>\n",
       "</div>"
      ],
      "text/plain": [
       "                                              title rating vote_count  \\\n",
       "0                                A Trip to the Moon    8.2      39710   \n",
       "1                           The Great Train Robbery    7.3      15526   \n",
       "2                             The Birth of a Nation    6.4      20774   \n",
       "3  Intolerance: Love's Struggle Throughout the Ages    7.8      13051   \n",
       "4                       The Cabinet of Dr. Caligari    8.1      51029   \n",
       "\n",
       "  start_year minutes                   genres    imdb_id id director_id  \n",
       "0       1902    13.0  Action,Adventure,Comedy  tt0000417  1           1  \n",
       "1       1903    11.0       Action,Crime,Short  tt0000439  2           2  \n",
       "2       1915   195.0        Drama,History,War  tt0004972  3           4  \n",
       "3       1916   163.0            Drama,History  tt0006864  4           4  \n",
       "4       1920    76.0   Fantasy,Horror,Mystery  tt0010323  5           5  "
      ]
     },
     "execution_count": 36,
     "metadata": {},
     "output_type": "execute_result"
    }
   ],
   "source": [
    "movies_df = pd.DataFrame(movies, columns=[col_names_movies])\n",
    "movies_df.head()"
   ]
  },
  {
   "cell_type": "code",
   "execution_count": 38,
   "id": "11a903a2",
   "metadata": {},
   "outputs": [
    {
     "name": "stdout",
     "output_type": "stream",
     "text": [
      "<class 'pandas.core.frame.DataFrame'>\n",
      "RangeIndex: 9875 entries, 0 to 9874\n",
      "Data columns (total 9 columns):\n",
      " #   Column          Non-Null Count  Dtype  \n",
      "---  ------          --------------  -----  \n",
      " 0   (title,)        9875 non-null   object \n",
      " 1   (rating,)       9875 non-null   object \n",
      " 2   (vote_count,)   9875 non-null   int64  \n",
      " 3   (start_year,)   9875 non-null   int64  \n",
      " 4   (minutes,)      9838 non-null   float64\n",
      " 5   (genres,)       9875 non-null   object \n",
      " 6   (imdb_id,)      9875 non-null   object \n",
      " 7   (id,)           9875 non-null   int64  \n",
      " 8   (director_id,)  9875 non-null   int64  \n",
      "dtypes: float64(1), int64(4), object(4)\n",
      "memory usage: 694.5+ KB\n"
     ]
    }
   ],
   "source": [
    "movies_df.info()"
   ]
  },
  {
   "cell_type": "markdown",
   "id": "f5889f5a",
   "metadata": {},
   "source": [
    "### directors dataframe"
   ]
  },
  {
   "cell_type": "code",
   "execution_count": 39,
   "id": "f1a7f138",
   "metadata": {},
   "outputs": [],
   "source": [
    "c.execute(\"SELECT * FROM directors\") \n",
    "directors = c.fetchall()"
   ]
  },
  {
   "cell_type": "code",
   "execution_count": 40,
   "id": "44faa5c1",
   "metadata": {},
   "outputs": [
    {
     "data": {
      "text/plain": [
       "['name', 'birth_year', 'death_year', 'imdb_director_id', 'id']"
      ]
     },
     "execution_count": 40,
     "metadata": {},
     "output_type": "execute_result"
    }
   ],
   "source": [
    "col_names_director = list(map(lambda x: x[0], c.description))\n",
    "col_names_director "
   ]
  },
  {
   "cell_type": "code",
   "execution_count": 41,
   "id": "92100b78",
   "metadata": {},
   "outputs": [
    {
     "data": {
      "text/html": [
       "<div>\n",
       "<style scoped>\n",
       "    .dataframe tbody tr th:only-of-type {\n",
       "        vertical-align: middle;\n",
       "    }\n",
       "\n",
       "    .dataframe tbody tr th {\n",
       "        vertical-align: top;\n",
       "    }\n",
       "\n",
       "    .dataframe thead tr th {\n",
       "        text-align: left;\n",
       "    }\n",
       "</style>\n",
       "<table border=\"1\" class=\"dataframe\">\n",
       "  <thead>\n",
       "    <tr>\n",
       "      <th></th>\n",
       "      <th>name</th>\n",
       "      <th>birth_year</th>\n",
       "      <th>death_year</th>\n",
       "      <th>imdb_director_id</th>\n",
       "      <th>id</th>\n",
       "    </tr>\n",
       "  </thead>\n",
       "  <tbody>\n",
       "    <tr>\n",
       "      <th>0</th>\n",
       "      <td>Georges Méliès</td>\n",
       "      <td>1861.0</td>\n",
       "      <td>1938.0</td>\n",
       "      <td>nm0617588</td>\n",
       "      <td>1</td>\n",
       "    </tr>\n",
       "    <tr>\n",
       "      <th>1</th>\n",
       "      <td>Edwin S. Porter</td>\n",
       "      <td>1870.0</td>\n",
       "      <td>1941.0</td>\n",
       "      <td>nm0692105</td>\n",
       "      <td>2</td>\n",
       "    </tr>\n",
       "    <tr>\n",
       "      <th>2</th>\n",
       "      <td>D.W. Griffith</td>\n",
       "      <td>1875.0</td>\n",
       "      <td>1948.0</td>\n",
       "      <td>nm0000428</td>\n",
       "      <td>4</td>\n",
       "    </tr>\n",
       "    <tr>\n",
       "      <th>3</th>\n",
       "      <td>Robert Wiene</td>\n",
       "      <td>1873.0</td>\n",
       "      <td>1938.0</td>\n",
       "      <td>nm0927468</td>\n",
       "      <td>5</td>\n",
       "    </tr>\n",
       "    <tr>\n",
       "      <th>4</th>\n",
       "      <td>Charles Chaplin</td>\n",
       "      <td>1889.0</td>\n",
       "      <td>1977.0</td>\n",
       "      <td>nm0000122</td>\n",
       "      <td>13</td>\n",
       "    </tr>\n",
       "  </tbody>\n",
       "</table>\n",
       "</div>"
      ],
      "text/plain": [
       "              name birth_year death_year imdb_director_id  id\n",
       "0   Georges Méliès     1861.0     1938.0        nm0617588   1\n",
       "1  Edwin S. Porter     1870.0     1941.0        nm0692105   2\n",
       "2    D.W. Griffith     1875.0     1948.0        nm0000428   4\n",
       "3     Robert Wiene     1873.0     1938.0        nm0927468   5\n",
       "4  Charles Chaplin     1889.0     1977.0        nm0000122  13"
      ]
     },
     "execution_count": 41,
     "metadata": {},
     "output_type": "execute_result"
    }
   ],
   "source": [
    "directors_df = pd.DataFrame(directors, columns=[col_names_director ])\n",
    "directors_df.head()"
   ]
  },
  {
   "cell_type": "code",
   "execution_count": null,
   "id": "d461b8bc",
   "metadata": {},
   "outputs": [],
   "source": []
  },
  {
   "cell_type": "code",
   "execution_count": null,
   "id": "cbd57bf8",
   "metadata": {},
   "outputs": [],
   "source": []
  },
  {
   "cell_type": "code",
   "execution_count": null,
   "id": "3861203c",
   "metadata": {},
   "outputs": [],
   "source": []
  },
  {
   "cell_type": "code",
   "execution_count": null,
   "id": "78deec97",
   "metadata": {},
   "outputs": [],
   "source": []
  },
  {
   "cell_type": "code",
   "execution_count": null,
   "id": "867af38e",
   "metadata": {},
   "outputs": [],
   "source": []
  },
  {
   "cell_type": "code",
   "execution_count": null,
   "id": "0e7e57b5",
   "metadata": {},
   "outputs": [],
   "source": []
  },
  {
   "cell_type": "code",
   "execution_count": null,
   "id": "a11a82a5",
   "metadata": {},
   "outputs": [],
   "source": []
  }
 ],
 "metadata": {
  "kernelspec": {
   "display_name": "Python 3 (ipykernel)",
   "language": "python",
   "name": "python3"
  },
  "language_info": {
   "codemirror_mode": {
    "name": "ipython",
    "version": 3
   },
   "file_extension": ".py",
   "mimetype": "text/x-python",
   "name": "python",
   "nbconvert_exporter": "python",
   "pygments_lexer": "ipython3",
   "version": "3.8.12"
  },
  "toc": {
   "base_numbering": 1,
   "nav_menu": {},
   "number_sections": true,
   "sideBar": true,
   "skip_h1_title": false,
   "title_cell": "Table of Contents",
   "title_sidebar": "Contents",
   "toc_cell": false,
   "toc_position": {},
   "toc_section_display": true,
   "toc_window_display": false
  }
 },
 "nbformat": 4,
 "nbformat_minor": 5
}
